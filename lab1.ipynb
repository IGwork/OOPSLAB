{
 "cells": [
  {
   "cell_type": "code",
   "execution_count": 31,
   "id": "e6c65098-42cc-451b-8927-97a32ecbfa02",
   "metadata": {},
   "outputs": [
    {
     "name": "stdin",
     "output_type": "stream",
     "text": [
      "enter a number 0\n"
     ]
    },
    {
     "name": "stdout",
     "output_type": "stream",
     "text": [
      "not a prime\n"
     ]
    }
   ],
   "source": [
    "n=int(input('enter a number'))\n",
    "f=0\n",
    "if(n<=1):\n",
    "    f=1\n",
    "for i in range (2,n):\n",
    "    if(n%i==0):\n",
    "      f=1\n",
    "      break\n",
    "          \n",
    "\n",
    "if(f==0):\n",
    " print('prime')\n",
    "if(f==1):\n",
    " print('not a prime')"
   ]
  },
  {
   "cell_type": "code",
   "execution_count": null,
   "id": "84b793b9-df21-41e3-b3d8-9e6657ebb6f8",
   "metadata": {},
   "outputs": [],
   "source": []
  }
 ],
 "metadata": {
  "kernelspec": {
   "display_name": "Python 3 (ipykernel)",
   "language": "python",
   "name": "python3"
  },
  "language_info": {
   "codemirror_mode": {
    "name": "ipython",
    "version": 3
   },
   "file_extension": ".py",
   "mimetype": "text/x-python",
   "name": "python",
   "nbconvert_exporter": "python",
   "pygments_lexer": "ipython3",
   "version": "3.12.4"
  }
 },
 "nbformat": 4,
 "nbformat_minor": 5
}
